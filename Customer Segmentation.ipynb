{
 "cells": [
  {
   "cell_type": "markdown",
   "metadata": {},
   "source": [
    "# Segmenting customers by RFM Score\n",
    "\n",
    "The purpose of this notebook is to use K-Means Clustering to segment a customer base in 3 groups based on their RFM Score.\n",
    "\n",
    "\n",
    "## RFM\n",
    "\n",
    "The RFM Score (Recency, Frequency, Monetary Value) is a metric that analyzes the customer based on three data points:\n",
    "\n",
    "- **Recency**: How recently the customer made a purchase\n",
    "- **Frequency**: How often do they purchase\n",
    "- **Monetary Value**: How much they spent\n",
    "\n",
    "RFM analysis classifies customers with a numerical ranking of the three categories, with the ideal customer earning the highest on each category.\n",
    "\n",
    "\n",
    "## The Data\n",
    "\n",
    "The dataset contains about a year worth of transactions (dec-2010 to dec-2011) from an **online retail company** based on in the UK. More information can be found on [Kaggle](https://www.kaggle.com/vijayuv/onlineretail). \n",
    "\n",
    "\n"
   ]
  },
  {
   "cell_type": "code",
   "execution_count": 51,
   "metadata": {},
   "outputs": [],
   "source": [
    "import pandas as pd\n",
    "import numpy as np\n",
    "import matplotlib.pyplot as plt\n",
    "%matplotlib inline\n",
    "\n",
    "# K-Means to cluster the users\n",
    "from sklearn.cluster import KMeans\n",
    "\n",
    "# Yellowbrick for Model visualization\n",
    "from yellowbrick.cluster import KElbowVisualizer"
   ]
  },
  {
   "cell_type": "code",
   "execution_count": 52,
   "metadata": {
    "jupyter": {
     "source_hidden": true
    }
   },
   "outputs": [],
   "source": [
    "# Define the functions\n",
    "def order_clusters(cluster, target, df, ascending):\n",
    "    new_cluster = 'new' + cluster\n",
    "    \n",
    "    temp = df.groupby(cluster)[target].mean().reset_index()\n",
    "    temp = temp.sort_values(by=target, ascending=ascending).reset_index(drop=True)\n",
    "    temp['index'] = temp.index\n",
    "    \n",
    "    cluster_df = pd.merge(df, temp[[cluster, 'index']], on=cluster)\n",
    "    cluster_df = cluster_df.drop([cluster], axis=1)\n",
    "    cluster_df = cluster_df.rename(columns={'index':cluster})\n",
    "    \n",
    "    return cluster_df\n",
    "\n",
    "def rfm_cluster(df, cluster_variable, n_clusters, ascending):\n",
    "    \n",
    "    # Create and fit the k-means \n",
    "    model = KMeans(n_clusters=n_clusters)\n",
    "    model.fit(df[[cluster_variable]])\n",
    "    \n",
    "    # predict the cluster and pass it to the dataframe\n",
    "    df[cluster_variable + 'Cluster'] = model.predict(df[[cluster_variable]])\n",
    "    \n",
    "    # order the cluster numbers\n",
    "    df = order_clusters(cluster_variable + 'Cluster', cluster_variable, df, ascending)\n",
    "    \n",
    "    return df"
   ]
  },
  {
   "cell_type": "code",
   "execution_count": 53,
   "metadata": {},
   "outputs": [],
   "source": [
    "# Import the data\n",
    "df = pd.read_csv('data/ecommerce.csv', encoding='cp1252', parse_dates=['InvoiceDate'])\n",
    "\n",
    "# I'll only keep UK sales\n",
    "df = df[df.Country == 'United Kingdom']"
   ]
  },
  {
   "cell_type": "code",
   "execution_count": 54,
   "metadata": {},
   "outputs": [
    {
     "data": {
      "text/html": [
       "<div>\n",
       "<style scoped>\n",
       "    .dataframe tbody tr th:only-of-type {\n",
       "        vertical-align: middle;\n",
       "    }\n",
       "\n",
       "    .dataframe tbody tr th {\n",
       "        vertical-align: top;\n",
       "    }\n",
       "\n",
       "    .dataframe thead th {\n",
       "        text-align: right;\n",
       "    }\n",
       "</style>\n",
       "<table border=\"1\" class=\"dataframe\">\n",
       "  <thead>\n",
       "    <tr style=\"text-align: right;\">\n",
       "      <th></th>\n",
       "      <th>InvoiceNo</th>\n",
       "      <th>StockCode</th>\n",
       "      <th>Description</th>\n",
       "      <th>Quantity</th>\n",
       "      <th>InvoiceDate</th>\n",
       "      <th>UnitPrice</th>\n",
       "      <th>CustomerID</th>\n",
       "      <th>Country</th>\n",
       "    </tr>\n",
       "  </thead>\n",
       "  <tbody>\n",
       "    <tr>\n",
       "      <th>0</th>\n",
       "      <td>536365</td>\n",
       "      <td>85123A</td>\n",
       "      <td>WHITE HANGING HEART T-LIGHT HOLDER</td>\n",
       "      <td>6</td>\n",
       "      <td>2010-12-01 08:26:00</td>\n",
       "      <td>2.55</td>\n",
       "      <td>17850.0</td>\n",
       "      <td>United Kingdom</td>\n",
       "    </tr>\n",
       "    <tr>\n",
       "      <th>1</th>\n",
       "      <td>536365</td>\n",
       "      <td>71053</td>\n",
       "      <td>WHITE METAL LANTERN</td>\n",
       "      <td>6</td>\n",
       "      <td>2010-12-01 08:26:00</td>\n",
       "      <td>3.39</td>\n",
       "      <td>17850.0</td>\n",
       "      <td>United Kingdom</td>\n",
       "    </tr>\n",
       "    <tr>\n",
       "      <th>2</th>\n",
       "      <td>536365</td>\n",
       "      <td>84406B</td>\n",
       "      <td>CREAM CUPID HEARTS COAT HANGER</td>\n",
       "      <td>8</td>\n",
       "      <td>2010-12-01 08:26:00</td>\n",
       "      <td>2.75</td>\n",
       "      <td>17850.0</td>\n",
       "      <td>United Kingdom</td>\n",
       "    </tr>\n",
       "    <tr>\n",
       "      <th>3</th>\n",
       "      <td>536365</td>\n",
       "      <td>84029G</td>\n",
       "      <td>KNITTED UNION FLAG HOT WATER BOTTLE</td>\n",
       "      <td>6</td>\n",
       "      <td>2010-12-01 08:26:00</td>\n",
       "      <td>3.39</td>\n",
       "      <td>17850.0</td>\n",
       "      <td>United Kingdom</td>\n",
       "    </tr>\n",
       "    <tr>\n",
       "      <th>4</th>\n",
       "      <td>536365</td>\n",
       "      <td>84029E</td>\n",
       "      <td>RED WOOLLY HOTTIE WHITE HEART.</td>\n",
       "      <td>6</td>\n",
       "      <td>2010-12-01 08:26:00</td>\n",
       "      <td>3.39</td>\n",
       "      <td>17850.0</td>\n",
       "      <td>United Kingdom</td>\n",
       "    </tr>\n",
       "  </tbody>\n",
       "</table>\n",
       "</div>"
      ],
      "text/plain": [
       "  InvoiceNo StockCode                          Description  Quantity  \\\n",
       "0    536365    85123A   WHITE HANGING HEART T-LIGHT HOLDER         6   \n",
       "1    536365     71053                  WHITE METAL LANTERN         6   \n",
       "2    536365    84406B       CREAM CUPID HEARTS COAT HANGER         8   \n",
       "3    536365    84029G  KNITTED UNION FLAG HOT WATER BOTTLE         6   \n",
       "4    536365    84029E       RED WOOLLY HOTTIE WHITE HEART.         6   \n",
       "\n",
       "          InvoiceDate  UnitPrice  CustomerID         Country  \n",
       "0 2010-12-01 08:26:00       2.55     17850.0  United Kingdom  \n",
       "1 2010-12-01 08:26:00       3.39     17850.0  United Kingdom  \n",
       "2 2010-12-01 08:26:00       2.75     17850.0  United Kingdom  \n",
       "3 2010-12-01 08:26:00       3.39     17850.0  United Kingdom  \n",
       "4 2010-12-01 08:26:00       3.39     17850.0  United Kingdom  "
      ]
     },
     "execution_count": 54,
     "metadata": {},
     "output_type": "execute_result"
    }
   ],
   "source": [
    "df.head()"
   ]
  },
  {
   "cell_type": "code",
   "execution_count": 55,
   "metadata": {},
   "outputs": [
    {
     "name": "stdout",
     "output_type": "stream",
     "text": [
      "<class 'pandas.core.frame.DataFrame'>\n",
      "Int64Index: 495478 entries, 0 to 541893\n",
      "Data columns (total 8 columns):\n",
      " #   Column       Non-Null Count   Dtype         \n",
      "---  ------       --------------   -----         \n",
      " 0   InvoiceNo    495478 non-null  object        \n",
      " 1   StockCode    495478 non-null  object        \n",
      " 2   Description  494024 non-null  object        \n",
      " 3   Quantity     495478 non-null  int64         \n",
      " 4   InvoiceDate  495478 non-null  datetime64[ns]\n",
      " 5   UnitPrice    495478 non-null  float64       \n",
      " 6   CustomerID   361878 non-null  float64       \n",
      " 7   Country      495478 non-null  object        \n",
      "dtypes: datetime64[ns](1), float64(2), int64(1), object(4)\n",
      "memory usage: 34.0+ MB\n"
     ]
    }
   ],
   "source": [
    "df.info()"
   ]
  },
  {
   "cell_type": "code",
   "execution_count": 56,
   "metadata": {},
   "outputs": [
    {
     "name": "stdout",
     "output_type": "stream",
     "text": [
      "Transactions timeframe: 2010-12-01 to 2011-12-09.\n",
      "Unique customers: 3950.\n",
      "Unique items sold: 4065.\n",
      "Quantity sold in period 4263829\n"
     ]
    }
   ],
   "source": [
    "maxdate = df['InvoiceDate'].dt.date.max()\n",
    "mindate = df['InvoiceDate'].dt.date.min()\n",
    "customers = df['CustomerID'].nunique()\n",
    "stock = df['StockCode'].nunique()\n",
    "quantity = df['Quantity'].sum()\n",
    "\n",
    "print(f'Transactions timeframe: {mindate} to {maxdate}.')\n",
    "print(f'Unique customers: {customers}.')\n",
    "print(f'Unique items sold: {stock}.')\n",
    "print(f'Quantity sold in period {quantity}')"
   ]
  },
  {
   "cell_type": "code",
   "execution_count": 57,
   "metadata": {},
   "outputs": [],
   "source": [
    "# Create a users dataframe to segment\n",
    "users = pd.DataFrame(df['CustomerID'].unique())\n",
    "users.columns = ['CustomerID']"
   ]
  },
  {
   "cell_type": "markdown",
   "metadata": {},
   "source": [
    "### Recency\n",
    "For the purpose of this project, I'll consider the last day in the dataset as if it were the present day to calculate Recency"
   ]
  },
  {
   "cell_type": "code",
   "execution_count": 58,
   "metadata": {},
   "outputs": [
    {
     "data": {
      "text/html": [
       "<div>\n",
       "<style scoped>\n",
       "    .dataframe tbody tr th:only-of-type {\n",
       "        vertical-align: middle;\n",
       "    }\n",
       "\n",
       "    .dataframe tbody tr th {\n",
       "        vertical-align: top;\n",
       "    }\n",
       "\n",
       "    .dataframe thead th {\n",
       "        text-align: right;\n",
       "    }\n",
       "</style>\n",
       "<table border=\"1\" class=\"dataframe\">\n",
       "  <thead>\n",
       "    <tr style=\"text-align: right;\">\n",
       "      <th></th>\n",
       "      <th>CustomerID</th>\n",
       "      <th>Recency</th>\n",
       "    </tr>\n",
       "  </thead>\n",
       "  <tbody>\n",
       "    <tr>\n",
       "      <th>0</th>\n",
       "      <td>17850.0</td>\n",
       "      <td>302</td>\n",
       "    </tr>\n",
       "    <tr>\n",
       "      <th>1</th>\n",
       "      <td>13047.0</td>\n",
       "      <td>31</td>\n",
       "    </tr>\n",
       "    <tr>\n",
       "      <th>2</th>\n",
       "      <td>13748.0</td>\n",
       "      <td>95</td>\n",
       "    </tr>\n",
       "    <tr>\n",
       "      <th>3</th>\n",
       "      <td>15100.0</td>\n",
       "      <td>330</td>\n",
       "    </tr>\n",
       "    <tr>\n",
       "      <th>4</th>\n",
       "      <td>15291.0</td>\n",
       "      <td>25</td>\n",
       "    </tr>\n",
       "  </tbody>\n",
       "</table>\n",
       "</div>"
      ],
      "text/plain": [
       "   CustomerID  Recency\n",
       "0     17850.0      302\n",
       "1     13047.0       31\n",
       "2     13748.0       95\n",
       "3     15100.0      330\n",
       "4     15291.0       25"
      ]
     },
     "execution_count": 58,
     "metadata": {},
     "output_type": "execute_result"
    }
   ],
   "source": [
    "# Get the latest purchase date for each customer and pass it to a df\n",
    "max_purchase = df.groupby('CustomerID').InvoiceDate.max().reset_index()\n",
    "max_purchase.columns = ['CustomerID', 'MaxPurchaseDate']\n",
    "max_purchase['MaxPurchaseDate'] = max_purchase['MaxPurchaseDate'].dt.date\n",
    "\n",
    "# Calculate Recency\n",
    "max_purchase['Recency'] = (\n",
    "    max_purchase['MaxPurchaseDate'].max() - max_purchase['MaxPurchaseDate']).dt.days \n",
    "\n",
    "# Merge the dataframe with the users to get the Recency value for each customer\n",
    "users = pd.merge(users, max_purchase[['CustomerID', 'Recency']], on='CustomerID')\n",
    "users.head()"
   ]
  },
  {
   "cell_type": "code",
   "execution_count": 59,
   "metadata": {},
   "outputs": [
    {
     "data": {
      "image/png": "[encoded data removed]",
      "text/plain": [
       "<Figure size 720x432 with 1 Axes>"
      ]
     },
     "metadata": {
      "needs_background": "light"
     },
     "output_type": "display_data"
    }
   ],
   "source": [
    "# plot a histogram of Recency\n",
    "fig = plt.figure(figsize=(10, 6))\n",
    "plt.hist(users['Recency']);"
   ]
  },
  {
   "cell_type": "markdown",
   "metadata": {},
   "source": [
    "The distribution of Recency is very skewed which, in this case, is actually good. We see that the majority of clients have bought something between 0 and 50 days ago."
   ]
  },
  {
   "cell_type": "code",
   "execution_count": 60,
   "metadata": {},
   "outputs": [
    {
     "data": {
      "text/plain": [
       "count    3950.000000\n",
       "mean       91.323038\n",
       "std       100.236848\n",
       "min         0.000000\n",
       "25%        16.000000\n",
       "50%        50.000000\n",
       "75%       143.000000\n",
       "max       373.000000\n",
       "Name: Recency, dtype: float64"
      ]
     },
     "execution_count": 60,
     "metadata": {},
     "output_type": "execute_result"
    }
   ],
   "source": [
    "# Describe Recency\n",
    "users['Recency'].describe()"
   ]
  },
  {
   "cell_type": "markdown",
   "metadata": {},
   "source": [
    "The number of optimal clusters seems to be 2, but I'll use 3 just for the sake of demonstration"
   ]
  },
  {
   "cell_type": "markdown",
   "metadata": {},
   "source": [
    "### Frequency"
   ]
  },
  {
   "cell_type": "code",
   "execution_count": 61,
   "metadata": {},
   "outputs": [],
   "source": [
    "# calculate the frequency score, that is how \n",
    "# frequently the customer buy from the store\n",
    "frequency_score = df.groupby('CustomerID')['InvoiceDate'].count().reset_index()\n",
    "frequency_score.columns = ['CustomerID', 'Frequency']"
   ]
  },
  {
   "cell_type": "code",
   "execution_count": 62,
   "metadata": {},
   "outputs": [
    {
     "data": {
      "text/html": [
       "<div>\n",
       "<style scoped>\n",
       "    .dataframe tbody tr th:only-of-type {\n",
       "        vertical-align: middle;\n",
       "    }\n",
       "\n",
       "    .dataframe tbody tr th {\n",
       "        vertical-align: top;\n",
       "    }\n",
       "\n",
       "    .dataframe thead th {\n",
       "        text-align: right;\n",
       "    }\n",
       "</style>\n",
       "<table border=\"1\" class=\"dataframe\">\n",
       "  <thead>\n",
       "    <tr style=\"text-align: right;\">\n",
       "      <th></th>\n",
       "      <th>CustomerID</th>\n",
       "      <th>Recency</th>\n",
       "      <th>Frequency</th>\n",
       "    </tr>\n",
       "  </thead>\n",
       "  <tbody>\n",
       "    <tr>\n",
       "      <th>0</th>\n",
       "      <td>17850.0</td>\n",
       "      <td>302</td>\n",
       "      <td>312</td>\n",
       "    </tr>\n",
       "    <tr>\n",
       "      <th>1</th>\n",
       "      <td>13047.0</td>\n",
       "      <td>31</td>\n",
       "      <td>196</td>\n",
       "    </tr>\n",
       "    <tr>\n",
       "      <th>2</th>\n",
       "      <td>13748.0</td>\n",
       "      <td>95</td>\n",
       "      <td>28</td>\n",
       "    </tr>\n",
       "    <tr>\n",
       "      <th>3</th>\n",
       "      <td>15100.0</td>\n",
       "      <td>330</td>\n",
       "      <td>6</td>\n",
       "    </tr>\n",
       "    <tr>\n",
       "      <th>4</th>\n",
       "      <td>15291.0</td>\n",
       "      <td>25</td>\n",
       "      <td>109</td>\n",
       "    </tr>\n",
       "  </tbody>\n",
       "</table>\n",
       "</div>"
      ],
      "text/plain": [
       "   CustomerID  Recency  Frequency\n",
       "0     17850.0      302        312\n",
       "1     13047.0       31        196\n",
       "2     13748.0       95         28\n",
       "3     15100.0      330          6\n",
       "4     15291.0       25        109"
      ]
     },
     "execution_count": 62,
     "metadata": {},
     "output_type": "execute_result"
    }
   ],
   "source": [
    "users = pd.merge(users, frequency_score, on='CustomerID')\n",
    "users.head()"
   ]
  },
  {
   "cell_type": "code",
   "execution_count": 63,
   "metadata": {},
   "outputs": [
    {
     "data": {
      "image/png": "[encoded data removed]",
      "text/plain": [
       "<Figure size 432x288 with 1 Axes>"
      ]
     },
     "metadata": {
      "needs_background": "light"
     },
     "output_type": "display_data"
    }
   ],
   "source": [
    "# Plot the distribution \n",
    "plt.hist(users['Frequency']);"
   ]
  },
  {
   "cell_type": "markdown",
   "metadata": {},
   "source": [
    "Unlike the recency cluster, a higher median (50%) frequency indicates a better customer."
   ]
  },
  {
   "cell_type": "markdown",
   "metadata": {},
   "source": [
    "### Monetary Value (Revenue)"
   ]
  },
  {
   "cell_type": "code",
   "execution_count": 64,
   "metadata": {},
   "outputs": [
    {
     "data": {
      "image/png": "[encoded data removed]",
      "text/plain": [
       "<Figure size 432x288 with 1 Axes>"
      ]
     },
     "metadata": {
      "needs_background": "light"
     },
     "output_type": "display_data"
    }
   ],
   "source": [
    "plt.hist(df['Quantity']);"
   ]
  },
  {
   "cell_type": "markdown",
   "metadata": {},
   "source": [
    "There are negative values for `Quantity` these could be returned goods, but the Kaggle page doesn't say anything about it, so I'll exclude those from the analysis just for demonstration."
   ]
  },
  {
   "cell_type": "code",
   "execution_count": 65,
   "metadata": {},
   "outputs": [],
   "source": [
    "df.drop(df[df['Quantity']<0].index, axis=0, inplace=True)"
   ]
  },
  {
   "cell_type": "code",
   "execution_count": 66,
   "metadata": {},
   "outputs": [],
   "source": [
    "# Calculate revenue for each individual customer\n",
    "df['Revenue'] = df['UnitPrice']*df['Quantity']"
   ]
  },
  {
   "cell_type": "code",
   "execution_count": 67,
   "metadata": {},
   "outputs": [],
   "source": [
    "# Calculate revenue for each individual customer\n",
    "df['Revenue'] = df['UnitPrice']*df['Quantity']\n",
    "revenue = df.groupby('CustomerID')['Revenue'].mean().reset_index()\n",
    "\n",
    "# Merge the revenue with users dataframe\n",
    "users = pd.merge(users, revenue, on='CustomerID')"
   ]
  },
  {
   "cell_type": "code",
   "execution_count": 68,
   "metadata": {},
   "outputs": [
    {
     "data": {
      "image/png": "[encoded data removed]",
      "text/plain": [
       "<Figure size 432x288 with 1 Axes>"
      ]
     },
     "metadata": {
      "needs_background": "light"
     },
     "output_type": "display_data"
    }
   ],
   "source": [
    "# Plot the data\n",
    "plt.hist(users['Revenue']);"
   ]
  },
  {
   "cell_type": "markdown",
   "metadata": {},
   "source": [
    "## Creating the clusters"
   ]
  },
  {
   "cell_type": "markdown",
   "metadata": {},
   "source": [
    "Now, we'll apply K-means clustering to assign the scores. \n",
    "\n",
    "To find out how many clusters we need, we'll apply the Elbow Method on 'Recency' to work as a standard for the entire RFM analysis"
   ]
  },
  {
   "cell_type": "code",
   "execution_count": 69,
   "metadata": {},
   "outputs": [
    {
     "data": {
      "image/png": "[encoded data removed]",
      "text/plain": [
       "<Figure size 432x288 with 2 Axes>"
      ]
     },
     "metadata": {},
     "output_type": "display_data"
    }
   ],
   "source": [
    "model = KMeans()\n",
    "\n",
    "recency_score = users[['Recency']]\n",
    "\n",
    "visualizer = KElbowVisualizer(model, k=(1, 11))\n",
    "\n",
    "visualizer.fit(recency_score)\n",
    "visualizer.show();"
   ]
  },
  {
   "cell_type": "markdown",
   "metadata": {},
   "source": [
    "The optimum amount of clusters is 2, but I'll use 3 for this project"
   ]
  },
  {
   "cell_type": "markdown",
   "metadata": {},
   "source": [
    "### Recency Cluster"
   ]
  },
  {
   "cell_type": "code",
   "execution_count": 111,
   "metadata": {},
   "outputs": [
    {
     "data": {
      "text/html": [
       "<div>\n",
       "<style scoped>\n",
       "    .dataframe tbody tr th:only-of-type {\n",
       "        vertical-align: middle;\n",
       "    }\n",
       "\n",
       "    .dataframe tbody tr th {\n",
       "        vertical-align: top;\n",
       "    }\n",
       "\n",
       "    .dataframe thead th {\n",
       "        text-align: right;\n",
       "    }\n",
       "</style>\n",
       "<table border=\"1\" class=\"dataframe\">\n",
       "  <thead>\n",
       "    <tr style=\"text-align: right;\">\n",
       "      <th></th>\n",
       "      <th>CustomerID</th>\n",
       "      <th>Recency</th>\n",
       "      <th>Frequency</th>\n",
       "      <th>Revenue</th>\n",
       "      <th>RevenueCluster</th>\n",
       "      <th>OverallScore</th>\n",
       "      <th>Segment</th>\n",
       "      <th>FrequencyCluster</th>\n",
       "      <th>RecencyCluster</th>\n",
       "    </tr>\n",
       "  </thead>\n",
       "  <tbody>\n",
       "    <tr>\n",
       "      <th>0</th>\n",
       "      <td>17850.0</td>\n",
       "      <td>302</td>\n",
       "      <td>312</td>\n",
       "      <td>18.152222</td>\n",
       "      <td>0</td>\n",
       "      <td>1</td>\n",
       "      <td>Medium</td>\n",
       "      <td>1</td>\n",
       "      <td>0</td>\n",
       "    </tr>\n",
       "    <tr>\n",
       "      <th>1</th>\n",
       "      <td>15100.0</td>\n",
       "      <td>330</td>\n",
       "      <td>6</td>\n",
       "      <td>292.000000</td>\n",
       "      <td>0</td>\n",
       "      <td>0</td>\n",
       "      <td>Medium</td>\n",
       "      <td>0</td>\n",
       "      <td>0</td>\n",
       "    </tr>\n",
       "    <tr>\n",
       "      <th>2</th>\n",
       "      <td>18074.0</td>\n",
       "      <td>373</td>\n",
       "      <td>13</td>\n",
       "      <td>37.661538</td>\n",
       "      <td>0</td>\n",
       "      <td>0</td>\n",
       "      <td>Medium</td>\n",
       "      <td>0</td>\n",
       "      <td>0</td>\n",
       "    </tr>\n",
       "    <tr>\n",
       "      <th>3</th>\n",
       "      <td>16250.0</td>\n",
       "      <td>261</td>\n",
       "      <td>24</td>\n",
       "      <td>16.226667</td>\n",
       "      <td>0</td>\n",
       "      <td>0</td>\n",
       "      <td>Medium</td>\n",
       "      <td>0</td>\n",
       "      <td>0</td>\n",
       "    </tr>\n",
       "    <tr>\n",
       "      <th>4</th>\n",
       "      <td>13747.0</td>\n",
       "      <td>373</td>\n",
       "      <td>1</td>\n",
       "      <td>79.600000</td>\n",
       "      <td>0</td>\n",
       "      <td>0</td>\n",
       "      <td>Medium</td>\n",
       "      <td>0</td>\n",
       "      <td>0</td>\n",
       "    </tr>\n",
       "  </tbody>\n",
       "</table>\n",
       "</div>"
      ],
      "text/plain": [
       "   CustomerID  Recency  Frequency     Revenue  RevenueCluster  OverallScore  \\\n",
       "0     17850.0      302        312   18.152222               0             1   \n",
       "1     15100.0      330          6  292.000000               0             0   \n",
       "2     18074.0      373         13   37.661538               0             0   \n",
       "3     16250.0      261         24   16.226667               0             0   \n",
       "4     13747.0      373          1   79.600000               0             0   \n",
       "\n",
       "  Segment  FrequencyCluster  RecencyCluster  \n",
       "0  Medium                 1               0  \n",
       "1  Medium                 0               0  \n",
       "2  Medium                 0               0  \n",
       "3  Medium                 0               0  \n",
       "4  Medium                 0               0  "
      ]
     },
     "execution_count": 111,
     "metadata": {},
     "output_type": "execute_result"
    }
   ],
   "source": [
    "# Create the Recency cluster, smaller recency is \n",
    "# better, so we set ascending to False\n",
    "users = rfm_cluster(users, 'Recency', 3, False)\n",
    "\n",
    "# Check the df with the clusters\n",
    "users.head()"
   ]
  },
  {
   "cell_type": "code",
   "execution_count": 112,
   "metadata": {},
   "outputs": [
    {
     "data": {
      "text/html": [
       "<div>\n",
       "<style scoped>\n",
       "    .dataframe tbody tr th:only-of-type {\n",
       "        vertical-align: middle;\n",
       "    }\n",
       "\n",
       "    .dataframe tbody tr th {\n",
       "        vertical-align: top;\n",
       "    }\n",
       "\n",
       "    .dataframe thead th {\n",
       "        text-align: right;\n",
       "    }\n",
       "</style>\n",
       "<table border=\"1\" class=\"dataframe\">\n",
       "  <thead>\n",
       "    <tr style=\"text-align: right;\">\n",
       "      <th></th>\n",
       "      <th>count</th>\n",
       "      <th>mean</th>\n",
       "      <th>std</th>\n",
       "      <th>min</th>\n",
       "      <th>25%</th>\n",
       "      <th>50%</th>\n",
       "      <th>75%</th>\n",
       "      <th>max</th>\n",
       "    </tr>\n",
       "    <tr>\n",
       "      <th>RecencyCluster</th>\n",
       "      <th></th>\n",
       "      <th></th>\n",
       "      <th></th>\n",
       "      <th></th>\n",
       "      <th></th>\n",
       "      <th></th>\n",
       "      <th></th>\n",
       "      <th></th>\n",
       "    </tr>\n",
       "  </thead>\n",
       "  <tbody>\n",
       "    <tr>\n",
       "      <th>0</th>\n",
       "      <td>543.0</td>\n",
       "      <td>292.209945</td>\n",
       "      <td>44.894589</td>\n",
       "      <td>225.0</td>\n",
       "      <td>254.0</td>\n",
       "      <td>283.0</td>\n",
       "      <td>324.0</td>\n",
       "      <td>373.0</td>\n",
       "    </tr>\n",
       "    <tr>\n",
       "      <th>1</th>\n",
       "      <td>723.0</td>\n",
       "      <td>154.347165</td>\n",
       "      <td>37.941635</td>\n",
       "      <td>93.0</td>\n",
       "      <td>120.0</td>\n",
       "      <td>155.0</td>\n",
       "      <td>186.0</td>\n",
       "      <td>222.0</td>\n",
       "    </tr>\n",
       "    <tr>\n",
       "      <th>2</th>\n",
       "      <td>2655.0</td>\n",
       "      <td>30.995104</td>\n",
       "      <td>25.174245</td>\n",
       "      <td>0.0</td>\n",
       "      <td>9.0</td>\n",
       "      <td>24.0</td>\n",
       "      <td>50.0</td>\n",
       "      <td>92.0</td>\n",
       "    </tr>\n",
       "  </tbody>\n",
       "</table>\n",
       "</div>"
      ],
      "text/plain": [
       "                 count        mean        std    min    25%    50%    75%  \\\n",
       "RecencyCluster                                                              \n",
       "0                543.0  292.209945  44.894589  225.0  254.0  283.0  324.0   \n",
       "1                723.0  154.347165  37.941635   93.0  120.0  155.0  186.0   \n",
       "2               2655.0   30.995104  25.174245    0.0    9.0   24.0   50.0   \n",
       "\n",
       "                  max  \n",
       "RecencyCluster         \n",
       "0               373.0  \n",
       "1               222.0  \n",
       "2                92.0  "
      ]
     },
     "execution_count": 112,
     "metadata": {},
     "output_type": "execute_result"
    }
   ],
   "source": [
    "# Now every customer has been assigned to a cluster based on their Recency\n",
    "# and the clusters are ordered from lowest to highest\n",
    "users.groupby('RecencyCluster')['Recency'].describe()"
   ]
  },
  {
   "cell_type": "markdown",
   "metadata": {},
   "source": [
    "### Monetary Value (Revenue) Cluster"
   ]
  },
  {
   "cell_type": "code",
   "execution_count": 103,
   "metadata": {},
   "outputs": [
    {
     "data": {
      "text/html": [
       "<div>\n",
       "<style scoped>\n",
       "    .dataframe tbody tr th:only-of-type {\n",
       "        vertical-align: middle;\n",
       "    }\n",
       "\n",
       "    .dataframe tbody tr th {\n",
       "        vertical-align: top;\n",
       "    }\n",
       "\n",
       "    .dataframe thead th {\n",
       "        text-align: right;\n",
       "    }\n",
       "</style>\n",
       "<table border=\"1\" class=\"dataframe\">\n",
       "  <thead>\n",
       "    <tr style=\"text-align: right;\">\n",
       "      <th></th>\n",
       "      <th>CustomerID</th>\n",
       "      <th>Recency</th>\n",
       "      <th>Frequency</th>\n",
       "      <th>Revenue</th>\n",
       "      <th>OverallScore</th>\n",
       "      <th>Segment</th>\n",
       "      <th>FrequencyCluster</th>\n",
       "      <th>RecencyCluster</th>\n",
       "      <th>RevenueCluster</th>\n",
       "    </tr>\n",
       "  </thead>\n",
       "  <tbody>\n",
       "    <tr>\n",
       "      <th>0</th>\n",
       "      <td>17850.0</td>\n",
       "      <td>302</td>\n",
       "      <td>312</td>\n",
       "      <td>18.152222</td>\n",
       "      <td>-1</td>\n",
       "      <td>Low</td>\n",
       "      <td>1</td>\n",
       "      <td>0</td>\n",
       "      <td>0</td>\n",
       "    </tr>\n",
       "    <tr>\n",
       "      <th>1</th>\n",
       "      <td>15100.0</td>\n",
       "      <td>330</td>\n",
       "      <td>6</td>\n",
       "      <td>292.000000</td>\n",
       "      <td>-2</td>\n",
       "      <td>Low</td>\n",
       "      <td>0</td>\n",
       "      <td>0</td>\n",
       "      <td>0</td>\n",
       "    </tr>\n",
       "    <tr>\n",
       "      <th>2</th>\n",
       "      <td>18074.0</td>\n",
       "      <td>373</td>\n",
       "      <td>13</td>\n",
       "      <td>37.661538</td>\n",
       "      <td>-2</td>\n",
       "      <td>Low</td>\n",
       "      <td>0</td>\n",
       "      <td>0</td>\n",
       "      <td>0</td>\n",
       "    </tr>\n",
       "    <tr>\n",
       "      <th>3</th>\n",
       "      <td>16250.0</td>\n",
       "      <td>261</td>\n",
       "      <td>24</td>\n",
       "      <td>16.226667</td>\n",
       "      <td>-2</td>\n",
       "      <td>Low</td>\n",
       "      <td>0</td>\n",
       "      <td>0</td>\n",
       "      <td>0</td>\n",
       "    </tr>\n",
       "    <tr>\n",
       "      <th>4</th>\n",
       "      <td>13747.0</td>\n",
       "      <td>373</td>\n",
       "      <td>1</td>\n",
       "      <td>79.600000</td>\n",
       "      <td>-2</td>\n",
       "      <td>Low</td>\n",
       "      <td>0</td>\n",
       "      <td>0</td>\n",
       "      <td>0</td>\n",
       "    </tr>\n",
       "    <tr>\n",
       "      <th>...</th>\n",
       "      <td>...</td>\n",
       "      <td>...</td>\n",
       "      <td>...</td>\n",
       "      <td>...</td>\n",
       "      <td>...</td>\n",
       "      <td>...</td>\n",
       "      <td>...</td>\n",
       "      <td>...</td>\n",
       "      <td>...</td>\n",
       "    </tr>\n",
       "    <tr>\n",
       "      <th>3916</th>\n",
       "      <td>13130.0</td>\n",
       "      <td>94</td>\n",
       "      <td>2</td>\n",
       "      <td>32.000000</td>\n",
       "      <td>-1</td>\n",
       "      <td>Low</td>\n",
       "      <td>0</td>\n",
       "      <td>1</td>\n",
       "      <td>0</td>\n",
       "    </tr>\n",
       "    <tr>\n",
       "      <th>3917</th>\n",
       "      <td>13210.0</td>\n",
       "      <td>93</td>\n",
       "      <td>22</td>\n",
       "      <td>16.067273</td>\n",
       "      <td>-1</td>\n",
       "      <td>Low</td>\n",
       "      <td>0</td>\n",
       "      <td>1</td>\n",
       "      <td>0</td>\n",
       "    </tr>\n",
       "    <tr>\n",
       "      <th>3918</th>\n",
       "      <td>12346.0</td>\n",
       "      <td>325</td>\n",
       "      <td>2</td>\n",
       "      <td>77183.600000</td>\n",
       "      <td>0</td>\n",
       "      <td>Medium</td>\n",
       "      <td>0</td>\n",
       "      <td>0</td>\n",
       "      <td>3</td>\n",
       "    </tr>\n",
       "    <tr>\n",
       "      <th>3919</th>\n",
       "      <td>16446.0</td>\n",
       "      <td>0</td>\n",
       "      <td>4</td>\n",
       "      <td>56157.500000</td>\n",
       "      <td>1</td>\n",
       "      <td>Medium</td>\n",
       "      <td>0</td>\n",
       "      <td>2</td>\n",
       "      <td>2</td>\n",
       "    </tr>\n",
       "    <tr>\n",
       "      <th>3920</th>\n",
       "      <td>15098.0</td>\n",
       "      <td>182</td>\n",
       "      <td>5</td>\n",
       "      <td>13305.500000</td>\n",
       "      <td>2</td>\n",
       "      <td>High</td>\n",
       "      <td>0</td>\n",
       "      <td>1</td>\n",
       "      <td>1</td>\n",
       "    </tr>\n",
       "  </tbody>\n",
       "</table>\n",
       "<p>3921 rows × 9 columns</p>\n",
       "</div>"
      ],
      "text/plain": [
       "      CustomerID  Recency  Frequency       Revenue  OverallScore Segment  \\\n",
       "0        17850.0      302        312     18.152222            -1     Low   \n",
       "1        15100.0      330          6    292.000000            -2     Low   \n",
       "2        18074.0      373         13     37.661538            -2     Low   \n",
       "3        16250.0      261         24     16.226667            -2     Low   \n",
       "4        13747.0      373          1     79.600000            -2     Low   \n",
       "...          ...      ...        ...           ...           ...     ...   \n",
       "3916     13130.0       94          2     32.000000            -1     Low   \n",
       "3917     13210.0       93         22     16.067273            -1     Low   \n",
       "3918     12346.0      325          2  77183.600000             0  Medium   \n",
       "3919     16446.0        0          4  56157.500000             1  Medium   \n",
       "3920     15098.0      182          5  13305.500000             2    High   \n",
       "\n",
       "      FrequencyCluster  RecencyCluster  RevenueCluster  \n",
       "0                    1               0               0  \n",
       "1                    0               0               0  \n",
       "2                    0               0               0  \n",
       "3                    0               0               0  \n",
       "4                    0               0               0  \n",
       "...                ...             ...             ...  \n",
       "3916                 0               1               0  \n",
       "3917                 0               1               0  \n",
       "3918                 0               0               3  \n",
       "3919                 0               2               2  \n",
       "3920                 0               1               1  \n",
       "\n",
       "[3921 rows x 9 columns]"
      ]
     },
     "execution_count": 103,
     "metadata": {},
     "output_type": "execute_result"
    }
   ],
   "source": [
    "rfm_cluster(users, 'Revenue', 4, True)"
   ]
  },
  {
   "cell_type": "code",
   "execution_count": 113,
   "metadata": {},
   "outputs": [
    {
     "data": {
      "text/html": [
       "<div>\n",
       "<style scoped>\n",
       "    .dataframe tbody tr th:only-of-type {\n",
       "        vertical-align: middle;\n",
       "    }\n",
       "\n",
       "    .dataframe tbody tr th {\n",
       "        vertical-align: top;\n",
       "    }\n",
       "\n",
       "    .dataframe thead th {\n",
       "        text-align: right;\n",
       "    }\n",
       "</style>\n",
       "<table border=\"1\" class=\"dataframe\">\n",
       "  <thead>\n",
       "    <tr style=\"text-align: right;\">\n",
       "      <th></th>\n",
       "      <th>count</th>\n",
       "      <th>mean</th>\n",
       "      <th>std</th>\n",
       "      <th>min</th>\n",
       "      <th>25%</th>\n",
       "      <th>50%</th>\n",
       "      <th>75%</th>\n",
       "      <th>max</th>\n",
       "    </tr>\n",
       "    <tr>\n",
       "      <th>RevenueCluster</th>\n",
       "      <th></th>\n",
       "      <th></th>\n",
       "      <th></th>\n",
       "      <th></th>\n",
       "      <th></th>\n",
       "      <th></th>\n",
       "      <th></th>\n",
       "      <th></th>\n",
       "    </tr>\n",
       "  </thead>\n",
       "  <tbody>\n",
       "    <tr>\n",
       "      <th>0</th>\n",
       "      <td>3918.0</td>\n",
       "      <td>34.364325</td>\n",
       "      <td>133.636653</td>\n",
       "      <td>0.0</td>\n",
       "      <td>11.145</td>\n",
       "      <td>17.278286</td>\n",
       "      <td>24.371273</td>\n",
       "      <td>4453.43</td>\n",
       "    </tr>\n",
       "    <tr>\n",
       "      <th>1</th>\n",
       "      <td>1.0</td>\n",
       "      <td>77183.600000</td>\n",
       "      <td>NaN</td>\n",
       "      <td>77183.6</td>\n",
       "      <td>77183.600</td>\n",
       "      <td>77183.600000</td>\n",
       "      <td>77183.600000</td>\n",
       "      <td>77183.60</td>\n",
       "    </tr>\n",
       "    <tr>\n",
       "      <th>2</th>\n",
       "      <td>1.0</td>\n",
       "      <td>56157.500000</td>\n",
       "      <td>NaN</td>\n",
       "      <td>56157.5</td>\n",
       "      <td>56157.500</td>\n",
       "      <td>56157.500000</td>\n",
       "      <td>56157.500000</td>\n",
       "      <td>56157.50</td>\n",
       "    </tr>\n",
       "    <tr>\n",
       "      <th>3</th>\n",
       "      <td>1.0</td>\n",
       "      <td>13305.500000</td>\n",
       "      <td>NaN</td>\n",
       "      <td>13305.5</td>\n",
       "      <td>13305.500</td>\n",
       "      <td>13305.500000</td>\n",
       "      <td>13305.500000</td>\n",
       "      <td>13305.50</td>\n",
       "    </tr>\n",
       "  </tbody>\n",
       "</table>\n",
       "</div>"
      ],
      "text/plain": [
       "                 count          mean         std      min        25%  \\\n",
       "RevenueCluster                                                         \n",
       "0               3918.0     34.364325  133.636653      0.0     11.145   \n",
       "1                  1.0  77183.600000         NaN  77183.6  77183.600   \n",
       "2                  1.0  56157.500000         NaN  56157.5  56157.500   \n",
       "3                  1.0  13305.500000         NaN  13305.5  13305.500   \n",
       "\n",
       "                         50%           75%       max  \n",
       "RevenueCluster                                        \n",
       "0                  17.278286     24.371273   4453.43  \n",
       "1               77183.600000  77183.600000  77183.60  \n",
       "2               56157.500000  56157.500000  56157.50  \n",
       "3               13305.500000  13305.500000  13305.50  "
      ]
     },
     "execution_count": 113,
     "metadata": {},
     "output_type": "execute_result"
    }
   ],
   "source": [
    "users.groupby('RevenueCluster')['Revenue'].describe()"
   ]
  },
  {
   "cell_type": "markdown",
   "metadata": {},
   "source": [
    "### Frequency cluster"
   ]
  },
  {
   "cell_type": "code",
   "execution_count": 114,
   "metadata": {},
   "outputs": [
    {
     "data": {
      "text/html": [
       "<div>\n",
       "<style scoped>\n",
       "    .dataframe tbody tr th:only-of-type {\n",
       "        vertical-align: middle;\n",
       "    }\n",
       "\n",
       "    .dataframe tbody tr th {\n",
       "        vertical-align: top;\n",
       "    }\n",
       "\n",
       "    .dataframe thead th {\n",
       "        text-align: right;\n",
       "    }\n",
       "</style>\n",
       "<table border=\"1\" class=\"dataframe\">\n",
       "  <thead>\n",
       "    <tr style=\"text-align: right;\">\n",
       "      <th></th>\n",
       "      <th>count</th>\n",
       "      <th>mean</th>\n",
       "      <th>std</th>\n",
       "      <th>min</th>\n",
       "      <th>25%</th>\n",
       "      <th>50%</th>\n",
       "      <th>75%</th>\n",
       "      <th>max</th>\n",
       "    </tr>\n",
       "    <tr>\n",
       "      <th>FrequencyCluster</th>\n",
       "      <th></th>\n",
       "      <th></th>\n",
       "      <th></th>\n",
       "      <th></th>\n",
       "      <th></th>\n",
       "      <th></th>\n",
       "      <th></th>\n",
       "      <th></th>\n",
       "    </tr>\n",
       "  </thead>\n",
       "  <tbody>\n",
       "    <tr>\n",
       "      <th>0</th>\n",
       "      <td>3652.0</td>\n",
       "      <td>58.766156</td>\n",
       "      <td>58.412558</td>\n",
       "      <td>1.0</td>\n",
       "      <td>16.0</td>\n",
       "      <td>37.0</td>\n",
       "      <td>84.00</td>\n",
       "      <td>272.0</td>\n",
       "    </tr>\n",
       "    <tr>\n",
       "      <th>1</th>\n",
       "      <td>266.0</td>\n",
       "      <td>486.578947</td>\n",
       "      <td>311.017362</td>\n",
       "      <td>273.0</td>\n",
       "      <td>316.0</td>\n",
       "      <td>393.0</td>\n",
       "      <td>518.25</td>\n",
       "      <td>2782.0</td>\n",
       "    </tr>\n",
       "    <tr>\n",
       "      <th>2</th>\n",
       "      <td>3.0</td>\n",
       "      <td>5917.666667</td>\n",
       "      <td>1805.062418</td>\n",
       "      <td>4642.0</td>\n",
       "      <td>4885.0</td>\n",
       "      <td>5128.0</td>\n",
       "      <td>6555.50</td>\n",
       "      <td>7983.0</td>\n",
       "    </tr>\n",
       "  </tbody>\n",
       "</table>\n",
       "</div>"
      ],
      "text/plain": [
       "                   count         mean          std     min     25%     50%  \\\n",
       "FrequencyCluster                                                             \n",
       "0                 3652.0    58.766156    58.412558     1.0    16.0    37.0   \n",
       "1                  266.0   486.578947   311.017362   273.0   316.0   393.0   \n",
       "2                    3.0  5917.666667  1805.062418  4642.0  4885.0  5128.0   \n",
       "\n",
       "                      75%     max  \n",
       "FrequencyCluster                   \n",
       "0                   84.00   272.0  \n",
       "1                  518.25  2782.0  \n",
       "2                 6555.50  7983.0  "
      ]
     },
     "execution_count": 114,
     "metadata": {},
     "output_type": "execute_result"
    }
   ],
   "source": [
    "# Create the Frequency Clusters\n",
    "users = rfm_cluster(users,'Frequency', 3, True)\n",
    "\n",
    "# describe the clusters\n",
    "users.groupby('FrequencyCluster')['Frequency'].describe()"
   ]
  },
  {
   "cell_type": "markdown",
   "metadata": {},
   "source": [
    "## Overall RFM Score"
   ]
  },
  {
   "cell_type": "markdown",
   "metadata": {},
   "source": [
    "For this RFM model, all the features will have the same weight, but this can easily be adjusted in the formula below:"
   ]
  },
  {
   "cell_type": "code",
   "execution_count": 116,
   "metadata": {},
   "outputs": [
    {
     "data": {
      "text/html": [
       "<div>\n",
       "<style scoped>\n",
       "    .dataframe tbody tr th:only-of-type {\n",
       "        vertical-align: middle;\n",
       "    }\n",
       "\n",
       "    .dataframe tbody tr th {\n",
       "        vertical-align: top;\n",
       "    }\n",
       "\n",
       "    .dataframe thead th {\n",
       "        text-align: right;\n",
       "    }\n",
       "</style>\n",
       "<table border=\"1\" class=\"dataframe\">\n",
       "  <thead>\n",
       "    <tr style=\"text-align: right;\">\n",
       "      <th></th>\n",
       "      <th>Recency</th>\n",
       "      <th>Frequency</th>\n",
       "      <th>Revenue</th>\n",
       "    </tr>\n",
       "    <tr>\n",
       "      <th>OverallScore</th>\n",
       "      <th></th>\n",
       "      <th></th>\n",
       "      <th></th>\n",
       "    </tr>\n",
       "  </thead>\n",
       "  <tbody>\n",
       "    <tr>\n",
       "      <th>-2</th>\n",
       "      <td>32.999582</td>\n",
       "      <td>72.791719</td>\n",
       "      <td>32.176291</td>\n",
       "    </tr>\n",
       "    <tr>\n",
       "      <th>-1</th>\n",
       "      <td>116.854657</td>\n",
       "      <td>158.744115</td>\n",
       "      <td>35.546965</td>\n",
       "    </tr>\n",
       "    <tr>\n",
       "      <th>0</th>\n",
       "      <td>288.503636</td>\n",
       "      <td>58.800000</td>\n",
       "      <td>143.847047</td>\n",
       "    </tr>\n",
       "    <tr>\n",
       "      <th>1</th>\n",
       "      <td>313.500000</td>\n",
       "      <td>157.000000</td>\n",
       "      <td>38600.876111</td>\n",
       "    </tr>\n",
       "    <tr>\n",
       "      <th>2</th>\n",
       "      <td>182.000000</td>\n",
       "      <td>5.000000</td>\n",
       "      <td>13305.500000</td>\n",
       "    </tr>\n",
       "  </tbody>\n",
       "</table>\n",
       "</div>"
      ],
      "text/plain": [
       "                 Recency   Frequency       Revenue\n",
       "OverallScore                                      \n",
       "-2             32.999582   72.791719     32.176291\n",
       "-1            116.854657  158.744115     35.546965\n",
       " 0            288.503636   58.800000    143.847047\n",
       " 1            313.500000  157.000000  38600.876111\n",
       " 2            182.000000    5.000000  13305.500000"
      ]
     },
     "execution_count": 116,
     "metadata": {},
     "output_type": "execute_result"
    }
   ],
   "source": [
    "# Calculate OverallScore\n",
    "users['OverallScore'] = users['FrequencyCluster'] + users['RevenueCluster'] - users['RecencyCluster'] \n",
    "\n",
    "# Show the mean of the features for each OverallScore value\n",
    "users.groupby('OverallScore')[['Recency', 'Frequency', 'Revenue']].mean()"
   ]
  },
  {
   "cell_type": "markdown",
   "metadata": {},
   "source": [
    "We can arbitrarily assign labels for the different Overall Score clusters for the sake of simplicity\n",
    "\n",
    "| Value   | Label  |\n",
    "|---------|--------|\n",
    "| (-2,-1) | Low    |\n",
    "| (0,1)   | Medium |\n",
    "| (2,4)   | High   |"
   ]
  },
  {
   "cell_type": "code",
   "execution_count": 117,
   "metadata": {},
   "outputs": [],
   "source": [
    "# Create the Segment variable based on the OverallScore\n",
    "x = users['OverallScore']\n",
    "conditions = [x<0, x<2]\n",
    "choices = ['Low', 'Medium']\n",
    "\n",
    "users['Segment'] = np.select(conditions, choices, default='High')"
   ]
  },
  {
   "cell_type": "code",
   "execution_count": 118,
   "metadata": {},
   "outputs": [
    {
     "data": {
      "image/png": "[encoded data removed]",
      "text/plain": [
       "<Figure size 720x432 with 1 Axes>"
      ]
     },
     "metadata": {
      "needs_background": "light"
     },
     "output_type": "display_data"
    }
   ],
   "source": [
    "fig = plt.figure(figsize=(10, 6))\n",
    "plt.title('Segments')\n",
    "plt.xlabel('Revenue')\n",
    "plt.ylabel('Frequency')\n",
    "    \n",
    "plt.scatter(x=users.query(\"Segment == 'Low'\")['Revenue'],\n",
    "            y= users.query(\"Segment == 'Low'\")['Frequency'],\n",
    "            c='green', alpha=0.7, label='Low')\n",
    "\n",
    "plt.scatter(x=users.query(\"Segment == 'Medium'\")['Revenue'],\n",
    "            y=users.query(\"Segment == 'Medium'\")['Frequency'],\n",
    "            c='red', alpha=0.6, label='Medium')\n",
    "\n",
    "plt.scatter(x=users.query(\"Segment == 'High'\")['Revenue'],\n",
    "            y=users.query(\"Segment == 'High'\")['Frequency'],\n",
    "            c='blue', alpha=0.5, label='High')\n",
    "\n",
    "plt.legend();"
   ]
  },
  {
   "cell_type": "code",
   "execution_count": 119,
   "metadata": {
    "jupyter": {
     "source_hidden": true
    }
   },
   "outputs": [
    {
     "data": {
      "image/png": "[encoded data removed]",
      "text/plain": [
       "<Figure size 720x432 with 1 Axes>"
      ]
     },
     "metadata": {
      "needs_background": "light"
     },
     "output_type": "display_data"
    }
   ],
   "source": [
    "fig = plt.figure(figsize=(10, 6))\n",
    "plt.title('Segments')\n",
    "plt.xlabel('Frequency')\n",
    "plt.ylabel('Revenue')\n",
    "    \n",
    "plt.scatter(x=users.query(\"Segment == 'Low'\")['Frequency'],\n",
    "            y= users.query(\"Segment == 'Low'\")['Revenue'],\n",
    "            c='green', alpha=0.7, label='Low')\n",
    "\n",
    "plt.scatter(x=users.query(\"Segment == 'Medium'\")['Frequency'],\n",
    "            y=users.query(\"Segment == 'Medium'\")['Revenue'],\n",
    "            c='red', alpha=0.6, label='Medium')\n",
    "\n",
    "plt.scatter(x=users.query(\"Segment == 'High'\")['Frequency'],\n",
    "            y=users.query(\"Segment == 'High'\")['Revenue'],\n",
    "            c='blue', alpha=0.5, label='High')\n",
    "\n",
    "plt.legend();"
   ]
  },
  {
   "cell_type": "code",
   "execution_count": 120,
   "metadata": {
    "jupyter": {
     "source_hidden": true
    }
   },
   "outputs": [
    {
     "data": {
      "image/png": "[encoded data removed]",
      "text/plain": [
       "<Figure size 720x432 with 1 Axes>"
      ]
     },
     "metadata": {
      "needs_background": "light"
     },
     "output_type": "display_data"
    }
   ],
   "source": [
    "fig = plt.figure(figsize=(10, 6))\n",
    "plt.title('Segments')\n",
    "plt.xlabel('Recency')\n",
    "plt.ylabel('Revenue')\n",
    "\n",
    "plt.scatter(x=users.query(\"Segment == 'Low'\")['Recency'],\n",
    "            y= users.query(\"Segment == 'Low'\")['Revenue'],\n",
    "            c='green', alpha=0.7, label='Low')\n",
    "\n",
    "plt.scatter(x=users.query(\"Segment == 'Medium'\")['Recency'],\n",
    "            y=users.query(\"Segment == 'Medium'\")['Revenue'],\n",
    "            c='red', alpha=0.6, label='Medium')\n",
    "\n",
    "plt.scatter(x=users.query(\"Segment == 'High'\")['Recency'],\n",
    "            y=users.query(\"Segment == 'High'\")['Revenue'],\n",
    "            c='blue', alpha=0.5, label='High')\n",
    "\n",
    "plt.legend();\n"
   ]
  },
  {
   "cell_type": "code",
   "execution_count": 121,
   "metadata": {
    "jupyter": {
     "source_hidden": true
    }
   },
   "outputs": [
    {
     "data": {
      "image/png": "[encoded data removed]",
      "text/plain": [
       "<Figure size 720x432 with 1 Axes>"
      ]
     },
     "metadata": {
      "needs_background": "light"
     },
     "output_type": "display_data"
    }
   ],
   "source": [
    "fig = plt.figure(figsize=(10, 6))\n",
    "plt.title('Segments')\n",
    "plt.xlabel('Recency')\n",
    "plt.ylabel('Frequency')\n",
    "    \n",
    "plt.scatter(x=users.query(\"Segment == 'Low'\")['Recency'],\n",
    "            y= users.query(\"Segment == 'Low'\")['Frequency'],\n",
    "            c='green', alpha=0.7, label='Low')\n",
    "\n",
    "plt.scatter(x=users.query(\"Segment == 'Medium'\")['Recency'],\n",
    "            y=users.query(\"Segment == 'Medium'\")['Frequency'],\n",
    "            c='red', alpha=0.6, label='Medium')\n",
    "\n",
    "plt.scatter(x=users.query(\"Segment == 'High'\")['Recency'],\n",
    "            y=users.query(\"Segment == 'High'\")['Frequency'],\n",
    "            c='blue', alpha=0.5, label='High')\n",
    "\n",
    "plt.legend();"
   ]
  },
  {
   "cell_type": "markdown",
   "metadata": {},
   "source": [
    "We can see the segments behave differently so we can apply adequate strategies to the each group."
   ]
  },
  {
   "cell_type": "code",
   "execution_count": 122,
   "metadata": {},
   "outputs": [
    {
     "data": {
      "text/html": [
       "<div>\n",
       "<style scoped>\n",
       "    .dataframe tbody tr th:only-of-type {\n",
       "        vertical-align: middle;\n",
       "    }\n",
       "\n",
       "    .dataframe tbody tr th {\n",
       "        vertical-align: top;\n",
       "    }\n",
       "\n",
       "    .dataframe thead th {\n",
       "        text-align: right;\n",
       "    }\n",
       "</style>\n",
       "<table border=\"1\" class=\"dataframe\">\n",
       "  <thead>\n",
       "    <tr style=\"text-align: right;\">\n",
       "      <th></th>\n",
       "      <th>CustomerID</th>\n",
       "      <th>Recency</th>\n",
       "      <th>Frequency</th>\n",
       "      <th>Revenue</th>\n",
       "      <th>RevenueCluster</th>\n",
       "      <th>OverallScore</th>\n",
       "      <th>Segment</th>\n",
       "      <th>RecencyCluster</th>\n",
       "      <th>FrequencyCluster</th>\n",
       "    </tr>\n",
       "  </thead>\n",
       "  <tbody>\n",
       "    <tr>\n",
       "      <th>0</th>\n",
       "      <td>17850.0</td>\n",
       "      <td>302</td>\n",
       "      <td>312</td>\n",
       "      <td>18.152222</td>\n",
       "      <td>0</td>\n",
       "      <td>1</td>\n",
       "      <td>Medium</td>\n",
       "      <td>0</td>\n",
       "      <td>1</td>\n",
       "    </tr>\n",
       "    <tr>\n",
       "      <th>1</th>\n",
       "      <td>14688.0</td>\n",
       "      <td>7</td>\n",
       "      <td>359</td>\n",
       "      <td>17.219786</td>\n",
       "      <td>0</td>\n",
       "      <td>-1</td>\n",
       "      <td>Low</td>\n",
       "      <td>2</td>\n",
       "      <td>1</td>\n",
       "    </tr>\n",
       "    <tr>\n",
       "      <th>2</th>\n",
       "      <td>15311.0</td>\n",
       "      <td>0</td>\n",
       "      <td>2491</td>\n",
       "      <td>25.543464</td>\n",
       "      <td>0</td>\n",
       "      <td>-1</td>\n",
       "      <td>Low</td>\n",
       "      <td>2</td>\n",
       "      <td>1</td>\n",
       "    </tr>\n",
       "    <tr>\n",
       "      <th>3</th>\n",
       "      <td>14527.0</td>\n",
       "      <td>2</td>\n",
       "      <td>1011</td>\n",
       "      <td>8.753930</td>\n",
       "      <td>0</td>\n",
       "      <td>-1</td>\n",
       "      <td>Low</td>\n",
       "      <td>2</td>\n",
       "      <td>1</td>\n",
       "    </tr>\n",
       "    <tr>\n",
       "      <th>4</th>\n",
       "      <td>17511.0</td>\n",
       "      <td>2</td>\n",
       "      <td>1076</td>\n",
       "      <td>94.561142</td>\n",
       "      <td>0</td>\n",
       "      <td>-1</td>\n",
       "      <td>Low</td>\n",
       "      <td>2</td>\n",
       "      <td>1</td>\n",
       "    </tr>\n",
       "  </tbody>\n",
       "</table>\n",
       "</div>"
      ],
      "text/plain": [
       "   CustomerID  Recency  Frequency    Revenue  RevenueCluster  OverallScore  \\\n",
       "0     17850.0      302        312  18.152222               0             1   \n",
       "1     14688.0        7        359  17.219786               0            -1   \n",
       "2     15311.0        0       2491  25.543464               0            -1   \n",
       "3     14527.0        2       1011   8.753930               0            -1   \n",
       "4     17511.0        2       1076  94.561142               0            -1   \n",
       "\n",
       "  Segment  RecencyCluster  FrequencyCluster  \n",
       "0  Medium               0                 1  \n",
       "1     Low               2                 1  \n",
       "2     Low               2                 1  \n",
       "3     Low               2                 1  \n",
       "4     Low               2                 1  "
      ]
     },
     "execution_count": 122,
     "metadata": {},
     "output_type": "execute_result"
    }
   ],
   "source": [
    "users.head()"
   ]
  }
 ],
 "metadata": {
  "kernelspec": {
   "display_name": "Python 3",
   "language": "python",
   "name": "python3"
  },
  "language_info": {
   "codemirror_mode": {
    "name": "ipython",
    "version": 3
   },
   "file_extension": ".py",
   "mimetype": "text/x-python",
   "name": "python",
   "nbconvert_exporter": "python",
   "pygments_lexer": "ipython3",
   "version": "3.7.4"
  }
 },
 "nbformat": 4,
 "nbformat_minor": 4
}
